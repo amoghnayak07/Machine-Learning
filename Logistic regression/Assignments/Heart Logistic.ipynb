{
 "cells": [
  {
   "cell_type": "code",
   "execution_count": 1,
   "metadata": {},
   "outputs": [],
   "source": [
    "import numpy as np\n",
    "import pandas as pd\n",
    "import matplotlib.pyplot as plt\n",
    "\n",
    "from sklearn.model_selection import train_test_split"
   ]
  },
  {
   "cell_type": "code",
   "execution_count": 6,
   "metadata": {},
   "outputs": [],
   "source": [
    "labels = []\n",
    "for i in range(1, 23):\n",
    "    labels.extend([f\"F{i}R\",f\"F{i}S\"])\n",
    "labels = ['target'] + labels"
   ]
  },
  {
   "cell_type": "code",
   "execution_count": 7,
   "metadata": {},
   "outputs": [
    {
     "data": {
      "text/plain": [
       "['target',\n",
       " 'F1R',\n",
       " 'F1S',\n",
       " 'F2R',\n",
       " 'F2S',\n",
       " 'F3R',\n",
       " 'F3S',\n",
       " 'F4R',\n",
       " 'F4S',\n",
       " 'F5R',\n",
       " 'F5S',\n",
       " 'F6R',\n",
       " 'F6S',\n",
       " 'F7R',\n",
       " 'F7S',\n",
       " 'F8R',\n",
       " 'F8S',\n",
       " 'F9R',\n",
       " 'F9S',\n",
       " 'F10R',\n",
       " 'F10S',\n",
       " 'F11R',\n",
       " 'F11S',\n",
       " 'F12R',\n",
       " 'F12S',\n",
       " 'F13R',\n",
       " 'F13S',\n",
       " 'F14R',\n",
       " 'F14S',\n",
       " 'F15R',\n",
       " 'F15S',\n",
       " 'F16R',\n",
       " 'F16S',\n",
       " 'F17R',\n",
       " 'F17S',\n",
       " 'F18R',\n",
       " 'F18S',\n",
       " 'F19R',\n",
       " 'F19S',\n",
       " 'F20R',\n",
       " 'F20S',\n",
       " 'F21R',\n",
       " 'F21S',\n",
       " 'F22R',\n",
       " 'F22S']"
      ]
     },
     "execution_count": 7,
     "metadata": {},
     "output_type": "execute_result"
    }
   ],
   "source": [
    "labels"
   ]
  },
  {
   "cell_type": "code",
   "execution_count": 9,
   "metadata": {},
   "outputs": [
    {
     "ename": "SyntaxError",
     "evalue": "(unicode error) 'unicodeescape' codec can't decode bytes in position 2-3: truncated \\UXXXXXXXX escape (<ipython-input-9-1f199de11dc0>, line 1)",
     "output_type": "error",
     "traceback": [
      "\u001b[1;36m  File \u001b[1;32m\"<ipython-input-9-1f199de11dc0>\"\u001b[1;36m, line \u001b[1;32m1\u001b[0m\n\u001b[1;33m    names = pd.read_csv('C:\\Users\\BATCOMP\\Desktop\\HDSfoundations\\heart names\\SPECTF_train.csv', names = labels)\u001b[0m\n\u001b[1;37m                       ^\u001b[0m\n\u001b[1;31mSyntaxError\u001b[0m\u001b[1;31m:\u001b[0m (unicode error) 'unicodeescape' codec can't decode bytes in position 2-3: truncated \\UXXXXXXXX escape\n"
     ]
    }
   ],
   "source": [
    "names = pd.read_csv('C:\\Users\\BATCOMP\\Desktop\\HDSfoundations\\heart names\\SPECTF_train.csv', names = labels)"
   ]
  },
  {
   "cell_type": "code",
   "execution_count": null,
   "metadata": {},
   "outputs": [],
   "source": [
    " "
   ]
  }
 ],
 "metadata": {
  "kernelspec": {
   "display_name": "Python 3",
   "language": "python",
   "name": "python3"
  },
  "language_info": {
   "codemirror_mode": {
    "name": "ipython",
    "version": 3
   },
   "file_extension": ".py",
   "mimetype": "text/x-python",
   "name": "python",
   "nbconvert_exporter": "python",
   "pygments_lexer": "ipython3",
   "version": "3.7.1"
  }
 },
 "nbformat": 4,
 "nbformat_minor": 2
}
