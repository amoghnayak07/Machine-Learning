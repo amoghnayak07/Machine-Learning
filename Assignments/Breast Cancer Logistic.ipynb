{
 "cells": [
  {
   "cell_type": "code",
   "execution_count": 28,
   "metadata": {},
   "outputs": [],
   "source": [
    "import numpy as np\n",
    "import pandas as pd\n",
    "import matplotlib.pyplot as plt\n",
    "\n",
    "from mpl_toolkits.mplot3d import Axes3D\n",
    "from sklearn.datasets import load_breast_cancer\n",
    "from sklearn.model_selection import train_test_split"
   ]
  },
  {
   "cell_type": "code",
   "execution_count": 29,
   "metadata": {},
   "outputs": [],
   "source": [
    "cancer = load_breast_cancer()"
   ]
  },
  {
   "cell_type": "code",
   "execution_count": 30,
   "metadata": {},
   "outputs": [
    {
     "name": "stdout",
     "output_type": "stream",
     "text": [
      "dict_keys(['data', 'target', 'target_names', 'DESCR', 'feature_names', 'filename'])\n"
     ]
    }
   ],
   "source": [
    "print(cancer.keys())"
   ]
  },
  {
   "cell_type": "code",
   "execution_count": 31,
   "metadata": {},
   "outputs": [
    {
     "name": "stdout",
     "output_type": "stream",
     "text": [
      ".. _breast_cancer_dataset:\n",
      "\n",
      "Breast cancer wisconsin (diagnostic) dataset\n",
      "--------------------------------------------\n",
      "\n",
      "**Data Set Characteristics:**\n",
      "\n",
      "    :Number of Instances: 569\n",
      "\n",
      "    :Number of Attributes: 30 numeric, predictive attributes and the class\n",
      "\n",
      "    :Attribute Information:\n",
      "        - radius (mean of distances from center to points on the perimeter)\n",
      "        - texture (standard deviation of gray-scale values)\n",
      "        - perimeter\n",
      "        - area\n",
      "        - smoothness (local variation in radius lengths)\n",
      "        - compactness (perimeter^2 / area - 1.0)\n",
      "        - concavity (severity of concave portions of the contour)\n",
      "        - concave points (number of concave portions of the contour)\n",
      "        - symmetry \n",
      "        - fractal dimension (\"coastline approximation\" - 1)\n",
      "\n",
      "        The mean, standard error, and \"worst\" or largest (mean of the three\n",
      "        largest values) of these features were computed for each image,\n",
      "        resulting in 30 features.  For instance, field 3 is Mean Radius, field\n",
      "        13 is Radius SE, field 23 is Worst Radius.\n",
      "\n",
      "        - class:\n",
      "                - WDBC-Malignant\n",
      "                - WDBC-Benign\n",
      "\n",
      "    :Summary Statistics:\n",
      "\n",
      "    ===================================== ====== ======\n",
      "                                           Min    Max\n",
      "    ===================================== ====== ======\n",
      "    radius (mean):                        6.981  28.11\n",
      "    texture (mean):                       9.71   39.28\n",
      "    perimeter (mean):                     43.79  188.5\n",
      "    area (mean):                          143.5  2501.0\n",
      "    smoothness (mean):                    0.053  0.163\n",
      "    compactness (mean):                   0.019  0.345\n",
      "    concavity (mean):                     0.0    0.427\n",
      "    concave points (mean):                0.0    0.201\n",
      "    symmetry (mean):                      0.106  0.304\n",
      "    fractal dimension (mean):             0.05   0.097\n",
      "    radius (standard error):              0.112  2.873\n",
      "    texture (standard error):             0.36   4.885\n",
      "    perimeter (standard error):           0.757  21.98\n",
      "    area (standard error):                6.802  542.2\n",
      "    smoothness (standard error):          0.002  0.031\n",
      "    compactness (standard error):         0.002  0.135\n",
      "    concavity (standard error):           0.0    0.396\n",
      "    concave points (standard error):      0.0    0.053\n",
      "    symmetry (standard error):            0.008  0.079\n",
      "    fractal dimension (standard error):   0.001  0.03\n",
      "    radius (worst):                       7.93   36.04\n",
      "    texture (worst):                      12.02  49.54\n",
      "    perimeter (worst):                    50.41  251.2\n",
      "    area (worst):                         185.2  4254.0\n",
      "    smoothness (worst):                   0.071  0.223\n",
      "    compactness (worst):                  0.027  1.058\n",
      "    concavity (worst):                    0.0    1.252\n",
      "    concave points (worst):               0.0    0.291\n",
      "    symmetry (worst):                     0.156  0.664\n",
      "    fractal dimension (worst):            0.055  0.208\n",
      "    ===================================== ====== ======\n",
      "\n",
      "    :Missing Attribute Values: None\n",
      "\n",
      "    :Class Distribution: 212 - Malignant, 357 - Benign\n",
      "\n",
      "    :Creator:  Dr. William H. Wolberg, W. Nick Street, Olvi L. Mangasarian\n",
      "\n",
      "    :Donor: Nick Street\n",
      "\n",
      "    :Date: November, 1995\n",
      "\n",
      "This is a copy of UCI ML Breast Cancer Wisconsin (Diagnostic) datasets.\n",
      "https://goo.gl/U2Uwz2\n",
      "\n",
      "Features are computed from a digitized image of a fine needle\n",
      "aspirate (FNA) of a breast mass.  They describe\n",
      "characteristics of the cell nuclei present in the image.\n",
      "\n",
      "Separating plane described above was obtained using\n",
      "Multisurface Method-Tree (MSM-T) [K. P. Bennett, \"Decision Tree\n",
      "Construction Via Linear Programming.\" Proceedings of the 4th\n",
      "Midwest Artificial Intelligence and Cognitive Science Society,\n",
      "pp. 97-101, 1992], a classification method which uses linear\n",
      "programming to construct a decision tree.  Relevant features\n",
      "were selected using an exhaustive search in the space of 1-4\n",
      "features and 1-3 separating planes.\n",
      "\n",
      "The actual linear program used to obtain the separating plane\n",
      "in the 3-dimensional space is that described in:\n",
      "[K. P. Bennett and O. L. Mangasarian: \"Robust Linear\n",
      "Programming Discrimination of Two Linearly Inseparable Sets\",\n",
      "Optimization Methods and Software 1, 1992, 23-34].\n",
      "\n",
      "This database is also available through the UW CS ftp server:\n",
      "\n",
      "ftp ftp.cs.wisc.edu\n",
      "cd math-prog/cpo-dataset/machine-learn/WDBC/\n",
      "\n",
      ".. topic:: References\n",
      "\n",
      "   - W.N. Street, W.H. Wolberg and O.L. Mangasarian. Nuclear feature extraction \n",
      "     for breast tumor diagnosis. IS&T/SPIE 1993 International Symposium on \n",
      "     Electronic Imaging: Science and Technology, volume 1905, pages 861-870,\n",
      "     San Jose, CA, 1993.\n",
      "   - O.L. Mangasarian, W.N. Street and W.H. Wolberg. Breast cancer diagnosis and \n",
      "     prognosis via linear programming. Operations Research, 43(4), pages 570-577, \n",
      "     July-August 1995.\n",
      "   - W.H. Wolberg, W.N. Street, and O.L. Mangasarian. Machine learning techniques\n",
      "     to diagnose breast cancer from fine-needle aspirates. Cancer Letters 77 (1994) \n",
      "     163-171.\n"
     ]
    }
   ],
   "source": [
    "print(cancer.DESCR)"
   ]
  },
  {
   "cell_type": "code",
   "execution_count": 32,
   "metadata": {},
   "outputs": [],
   "source": [
    "features = pd.DataFrame(cancer.data, columns = cancer.feature_names)"
   ]
  },
  {
   "cell_type": "code",
   "execution_count": 33,
   "metadata": {},
   "outputs": [],
   "source": [
    "target = pd.DataFrame(cancer.target, columns = [\"TARGET\"])"
   ]
  },
  {
   "cell_type": "code",
   "execution_count": 34,
   "metadata": {},
   "outputs": [],
   "source": [
    "data = pd.concat([features, target], axis = 1)"
   ]
  },
  {
   "cell_type": "code",
   "execution_count": 35,
   "metadata": {},
   "outputs": [],
   "source": [
    "correl = data.corr('pearson')"
   ]
  },
  {
   "cell_type": "code",
   "execution_count": 36,
   "metadata": {},
   "outputs": [
    {
     "data": {
      "text/plain": [
       "symmetry error             0.006522\n",
       "texture error              0.008303\n",
       "mean fractal dimension     0.012838\n",
       "smoothness error           0.067016\n",
       "fractal dimension error    0.077972\n",
       "concavity error            0.253730\n",
       "compactness error          0.292999\n",
       "worst fractal dimension    0.323872\n",
       "mean symmetry              0.330499\n",
       "mean smoothness            0.358560\n",
       "concave points error       0.408042\n",
       "mean texture               0.415185\n",
       "worst symmetry             0.416294\n",
       "worst smoothness           0.421465\n",
       "worst texture              0.456903\n",
       "area error                 0.548236\n",
       "perimeter error            0.556141\n",
       "radius error               0.567134\n",
       "worst compactness          0.590998\n",
       "mean compactness           0.596534\n",
       "worst concavity            0.659610\n",
       "mean concavity             0.696360\n",
       "mean area                  0.708984\n",
       "mean radius                0.730029\n",
       "worst area                 0.733825\n",
       "mean perimeter             0.742636\n",
       "worst radius               0.776454\n",
       "mean concave points        0.776614\n",
       "worst perimeter            0.782914\n",
       "worst concave points       0.793566\n",
       "TARGET                     1.000000\n",
       "Name: TARGET, dtype: float64"
      ]
     },
     "execution_count": 36,
     "metadata": {},
     "output_type": "execute_result"
    }
   ],
   "source": [
    "abs(correl['TARGET']).sort_values()"
   ]
  },
  {
   "cell_type": "code",
   "execution_count": 37,
   "metadata": {},
   "outputs": [],
   "source": [
    "X1 = data['worst concave points']"
   ]
  },
  {
   "cell_type": "code",
   "execution_count": 38,
   "metadata": {},
   "outputs": [],
   "source": [
    "X2 = data['worst perimeter']"
   ]
  },
  {
   "cell_type": "code",
   "execution_count": 39,
   "metadata": {},
   "outputs": [],
   "source": [
    "Y = data['TARGET']"
   ]
  },
  {
   "cell_type": "code",
   "execution_count": 40,
   "metadata": {},
   "outputs": [
    {
     "data": {
      "text/plain": [
       "[<matplotlib.lines.Line2D at 0x17d11d48c18>,\n",
       " <matplotlib.lines.Line2D at 0x17d117070b8>]"
      ]
     },
     "execution_count": 40,
     "metadata": {},
     "output_type": "execute_result"
    },
    {
     "data": {
      "image/png": "[encoded data removed]",
      "text/plain": [
       "<Figure size 432x288 with 1 Axes>"
      ]
     },
     "metadata": {
      "needs_background": "light"
     },
     "output_type": "display_data"
    }
   ],
   "source": [
    "plt.plot(X1, Y, 'r.',\n",
    "        X2, Y, 'b.')"
   ]
  },
  {
   "cell_type": "code",
   "execution_count": 41,
   "metadata": {},
   "outputs": [],
   "source": [
    "X1 = (X1 - X1.min())/(X1.max() - X1.min())"
   ]
  },
  {
   "cell_type": "code",
   "execution_count": 42,
   "metadata": {},
   "outputs": [],
   "source": [
    "X2 = (X2 - X2.min())/(X2.max() - X2.min())"
   ]
  },
  {
   "cell_type": "code",
   "execution_count": 43,
   "metadata": {},
   "outputs": [],
   "source": [
    "Y = (Y - Y.min())/(Y.max() - Y.min())"
   ]
  },
  {
   "cell_type": "code",
   "execution_count": 44,
   "metadata": {},
   "outputs": [],
   "source": [
    "x1 = np.array(X1)"
   ]
  },
  {
   "cell_type": "code",
   "execution_count": 45,
   "metadata": {},
   "outputs": [],
   "source": [
    "x2 = np.array(X2)"
   ]
  },
  {
   "cell_type": "code",
   "execution_count": 46,
   "metadata": {},
   "outputs": [],
   "source": [
    "y = np.array(Y)"
   ]
  },
  {
   "cell_type": "code",
   "execution_count": 47,
   "metadata": {},
   "outputs": [
    {
     "data": {
      "text/plain": [
       "[<matplotlib.lines.Line2D at 0x17d11afa080>,\n",
       " <matplotlib.lines.Line2D at 0x17d110e4e48>]"
      ]
     },
     "execution_count": 47,
     "metadata": {},
     "output_type": "execute_result"
    },
    {
     "data": {
      "image/png": "[encoded data removed]",
      "text/plain": [
       "<Figure size 432x288 with 1 Axes>"
      ]
     },
     "metadata": {
      "needs_background": "light"
     },
     "output_type": "display_data"
    }
   ],
   "source": [
    "plt.plot(x1, y, 'r.',\n",
    "        x2, y, 'b.')"
   ]
  },
  {
   "cell_type": "code",
   "execution_count": 48,
   "metadata": {},
   "outputs": [
    {
     "data": {
      "text/plain": [
       "[<mpl_toolkits.mplot3d.art3d.Line3D at 0x17d11a732e8>]"
      ]
     },
     "execution_count": 48,
     "metadata": {},
     "output_type": "execute_result"
    },
    {
     "data": {
      "image/png": "[encoded data removed]",
      "text/plain": [
       "<Figure size 432x288 with 1 Axes>"
      ]
     },
     "metadata": {
      "needs_background": "light"
     },
     "output_type": "display_data"
    }
   ],
   "source": [
    "fig = plt.figure()\n",
    "ax = fig.add_subplot(1, 1, 1, projection='3d')\n",
    "ax.plot(x2, x1, y, 'r.')"
   ]
  },
  {
   "cell_type": "code",
   "execution_count": 49,
   "metadata": {},
   "outputs": [],
   "source": [
    "x1_train, x1_test, x2_train, x2_test, y_train, y_test = train_test_split(x1, x2, y, test_size = 0.25)"
   ]
  },
  {
   "cell_type": "code",
   "execution_count": 50,
   "metadata": {},
   "outputs": [],
   "source": [
    "def hyp(a, x1, b, x2, c):\n",
    "    return (1/(1 + np.exp(-(a*x1 + b*x2 + c)))) "
   ]
  },
  {
   "cell_type": "code",
   "execution_count": 51,
   "metadata": {},
   "outputs": [],
   "source": [
    "def error(a, x1, b, x2, c, y):\n",
    "    e = 0\n",
    "    m = len(x1)\n",
    "    \n",
    "    for i in range(m):\n",
    "        e += -(y[i]*np.log(hyp(a, x1[i], b, x2[i], c))) - ((1 - y[i])*np.log(1 - hyp(a, x1[i], b, x2[i], c)))\n",
    "        \n",
    "    return (1/m)*e"
   ]
  },
  {
   "cell_type": "code",
   "execution_count": 52,
   "metadata": {},
   "outputs": [],
   "source": [
    "def step_grad(a, x1, b, x2, c, y, learning_rate):\n",
    "    grad_a = 0\n",
    "    grad_b = 0\n",
    "    grad_c = 0\n",
    "    m = len(x1)\n",
    "    \n",
    "    for i in range(m):\n",
    "        grad_a += (hyp(a, x1[i], b, x2[i], c) - y[i])*x1[i]\n",
    "        grad_b += (hyp(a, x1[i], b, x2[i], c) - y[i])*x2[i]\n",
    "        grad_c += (hyp(a, x1[i], b, x2[i], c) - y[i])\n",
    "        \n",
    "    a = a - (grad_a * learning_rate)\n",
    "    b = b - (grad_b * learning_rate)\n",
    "    c = c - (grad_c * learning_rate)\n",
    "    \n",
    "    return a, b, c"
   ]
  },
  {
   "cell_type": "code",
   "execution_count": 53,
   "metadata": {},
   "outputs": [],
   "source": [
    "def descnd(init_a, x1, init_b, x2, init_c, y, learning_rate, iteration):\n",
    "    a = init_a\n",
    "    b = init_b\n",
    "    c = init_c\n",
    "    for i in range(iteration):\n",
    "        e = error(a, x1, b, x2, c, y)\n",
    "        \n",
    "        if i % 1000 == 0:\n",
    "            print(f\"error : {e}, a = {a}, b = {b}, c = {c}\")\n",
    "            \n",
    "        a, b, c = step_grad(a, x1, b, x2, c, y, learning_rate)\n",
    "    \n",
    "    return a, b, c"
   ]
  },
  {
   "cell_type": "code",
   "execution_count": 54,
   "metadata": {},
   "outputs": [
    {
     "name": "stdout",
     "output_type": "stream",
     "text": [
      "error : 0.13687160309146892, a = -10.616469554790992, b = -26.446302889880545, c = 12.720167835927661\n",
      "error : 0.1365739562736027, a = -10.522973960000996, b = -26.57112529558029, c = 12.609020084811938\n",
      "error : 0.1365248577080419, a = -10.415209892086843, b = -26.66516649954479, c = 12.588571252892473\n",
      "error : 0.13648755493038778, a = -10.326122124418628, b = -26.753088498538293, c = 12.57459401649811\n",
      "error : 0.13645868768483652, a = -10.252574931343586, b = -26.83550417370746, c = 12.565883546585018\n",
      "error : 0.1364358976103793, a = -10.19192243643202, b = -26.912938015377208, c = 12.56142513324099\n",
      "error : 0.13641753250820066, a = -10.141944778450142, b = -26.985841452061045, c = 12.560370540053048\n",
      "error : 0.13640243425665058, a = -10.100788166570993, b = -27.054605298249953, c = 12.562015236078327\n",
      "error : 0.13638978859498183, a = -10.066910340711178, b = -27.119569877807734, c = 12.565777329964753\n",
      "error : 0.1363790197703848, a = -10.039032102030951, b = -27.18103327690298, c = 12.571178629258037\n",
      "error : 0.13636971721201135, a = -10.016095000840727, b = -27.239258091857952, c = 12.577827969396525\n",
      "error : 0.13636158478779856, a = -9.997224905784488, b = -27.294476964099413, c = 12.585406776370416\n",
      "error : 0.13635440583118916, a = -9.981700972452751, b = -27.34689713529779, c = 12.593656719517375\n",
      "error : 0.13634801909757419, a = -9.968929433353143, b = -27.39670420867822, c = 12.602369254861289\n",
      "error : 0.1363423022525456, a = -9.958421606793559, b = -27.444065265187696, c = 12.61137683770468\n",
      "error : 0.13633716052853143, a = -9.949775542014333, b = -27.489131453724266, c = 12.620545583165484\n",
      "error : 0.1363325189177292, a = -9.94266076243592, b = -27.532040151317606, c = 12.629769166019866\n",
      "error : 0.13632831678044044, a = -9.936805625178508, b = -27.57291677065936, c = 12.63896377048509\n",
      "error : 0.1363245041021583, a = -9.931986874764341, b = -27.611876277666493, c = 12.648063922498629\n",
      "error : 0.13632103887660035, a = -9.928021027142888, b = -27.64902447000502, c = 12.657019059186394\n"
     ]
    }
   ],
   "source": [
    "a = -10.616469554790992\n",
    "b = -26.446302889880545\n",
    "c = 12.720167835927661\n",
    "learning_rate = 0.001\n",
    "iteration = 20000\n",
    "\n",
    "final_a, final_b, final_c = descnd(a, x1_train, b, x2_train, c, y_train, learning_rate, iteration)"
   ]
  },
  {
   "cell_type": "code",
   "execution_count": 55,
   "metadata": {},
   "outputs": [
    {
     "data": {
      "text/plain": [
       "0.13631788525886462"
      ]
     },
     "execution_count": 55,
     "metadata": {},
     "output_type": "execute_result"
    }
   ],
   "source": [
    "error(final_a, x1_train, final_b, x2_train, final_c, y_train)"
   ]
  },
  {
   "cell_type": "code",
   "execution_count": 56,
   "metadata": {},
   "outputs": [
    {
     "data": {
      "text/plain": [
       "0.11944107685302717"
      ]
     },
     "execution_count": 56,
     "metadata": {},
     "output_type": "execute_result"
    }
   ],
   "source": [
    "error(final_a, x1_test, final_b, x2_test, final_c, y_test)"
   ]
  },
  {
   "cell_type": "code",
   "execution_count": 57,
   "metadata": {},
   "outputs": [
    {
     "data": {
      "text/plain": [
       "[<matplotlib.lines.Line2D at 0x17d11a186a0>,\n",
       " <matplotlib.lines.Line2D at 0x17d11a187b8>]"
      ]
     },
     "execution_count": 57,
     "metadata": {},
     "output_type": "execute_result"
    },
    {
     "data": {
      "image/png": "[encoded data removed]",
      "text/plain": [
       "<Figure size 432x288 with 1 Axes>"
      ]
     },
     "metadata": {
      "needs_background": "light"
     },
     "output_type": "display_data"
    }
   ],
   "source": [
    "plt.plot(x1_train, y_train, 'r.',\n",
    "        x1_train, hyp(final_a, x1_train, final_b, x2_train, final_c), 'b.')"
   ]
  },
  {
   "cell_type": "code",
   "execution_count": 58,
   "metadata": {},
   "outputs": [
    {
     "data": {
      "text/plain": [
       "[<matplotlib.lines.Line2D at 0x17d11ab72b0>,\n",
       " <matplotlib.lines.Line2D at 0x17d11ab73c8>]"
      ]
     },
     "execution_count": 58,
     "metadata": {},
     "output_type": "execute_result"
    },
    {
     "data": {
      "image/png": "[encoded data removed]",
      "text/plain": [
       "<Figure size 432x288 with 1 Axes>"
      ]
     },
     "metadata": {
      "needs_background": "light"
     },
     "output_type": "display_data"
    }
   ],
   "source": [
    "plt.plot(x2_train, y_train, 'r.',\n",
    "        x2_train, hyp(final_a, x2_train, final_b, x2_train, final_c), 'b.')"
   ]
  },
  {
   "cell_type": "code",
   "execution_count": 59,
   "metadata": {},
   "outputs": [
    {
     "data": {
      "text/plain": [
       "[<matplotlib.lines.Line2D at 0x17d11b55550>,\n",
       " <matplotlib.lines.Line2D at 0x17d11b55668>]"
      ]
     },
     "execution_count": 59,
     "metadata": {},
     "output_type": "execute_result"
    },
    {
     "data": {
      "image/png": "[encoded data removed]",
      "text/plain": [
       "<Figure size 432x288 with 1 Axes>"
      ]
     },
     "metadata": {
      "needs_background": "light"
     },
     "output_type": "display_data"
    }
   ],
   "source": [
    "plt.plot(x1_test, y_test, 'g.',\n",
    "         x1_test, hyp(final_a, x1_test, final_b, x2_test, final_c), 'b.')"
   ]
  },
  {
   "cell_type": "code",
   "execution_count": 60,
   "metadata": {},
   "outputs": [
    {
     "data": {
      "text/plain": [
       "[<matplotlib.lines.Line2D at 0x17d11bb25f8>,\n",
       " <matplotlib.lines.Line2D at 0x17d11b8eb38>]"
      ]
     },
     "execution_count": 60,
     "metadata": {},
     "output_type": "execute_result"
    },
    {
     "data": {
      "image/png": "[encoded data removed]",
      "text/plain": [
       "<Figure size 432x288 with 1 Axes>"
      ]
     },
     "metadata": {
      "needs_background": "light"
     },
     "output_type": "display_data"
    }
   ],
   "source": [
    "plt.plot(x2_test, y_test, 'g.',\n",
    "         x2_test, hyp(final_a, x2_test, final_b, x2_test, final_c), 'b.')"
   ]
  },
  {
   "cell_type": "code",
   "execution_count": 61,
   "metadata": {},
   "outputs": [],
   "source": [
    "def accuracy(a, x1, b, x2, c, y):\n",
    "    correct = 0\n",
    "    m = len(x1)\n",
    "    \n",
    "    for i in range(m):\n",
    "        pred = hyp(a, x1[i], b, x2[i], c)\n",
    "        \n",
    "        if pred >= 0.5:\n",
    "            z = 1\n",
    "            \n",
    "        else:\n",
    "            z = 0\n",
    "        \n",
    "        if y[i] == z:\n",
    "            correct += 1\n",
    "    print(f\"Accuray : {100*correct/len(y)}\")"
   ]
  },
  {
   "cell_type": "code",
   "execution_count": 62,
   "metadata": {},
   "outputs": [
    {
     "name": "stdout",
     "output_type": "stream",
     "text": [
      "Accuray : 93.89671361502347\n"
     ]
    }
   ],
   "source": [
    "accuracy(final_a, x1_train, final_b, x2_train, final_c, y_train)"
   ]
  },
  {
   "cell_type": "code",
   "execution_count": 63,
   "metadata": {},
   "outputs": [
    {
     "name": "stdout",
     "output_type": "stream",
     "text": [
      "Accuray : 93.7062937062937\n"
     ]
    }
   ],
   "source": [
    "accuracy(final_a, x1_test, final_b, x2_test, final_c, y_test)"
   ]
  },
  {
   "cell_type": "code",
   "execution_count": null,
   "metadata": {},
   "outputs": [],
   "source": []
  }
 ],
 "metadata": {
  "kernelspec": {
   "display_name": "Python 3",
   "language": "python",
   "name": "python3"
  },
  "language_info": {
   "codemirror_mode": {
    "name": "ipython",
    "version": 3
   },
   "file_extension": ".py",
   "mimetype": "text/x-python",
   "name": "python",
   "nbconvert_exporter": "python",
   "pygments_lexer": "ipython3",
   "version": "3.7.1"
  }
 },
 "nbformat": 4,
 "nbformat_minor": 2
}
